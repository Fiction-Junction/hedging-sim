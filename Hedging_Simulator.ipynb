{
  "cells": [
    {
      "cell_type": "markdown",
      "metadata": {
        "id": "view-in-github",
        "colab_type": "text"
      },
      "source": [
        "<a href=\"https://colab.research.google.com/github/Fiction-Junction/hedging-sim/blob/main/Hedging_Simulator.ipynb\" target=\"_parent\"><img src=\"https://colab.research.google.com/assets/colab-badge.svg\" alt=\"Open In Colab\"/></a>"
      ]
    },
    {
      "cell_type": "markdown",
      "metadata": {
        "id": "IFHUusNoYsnm"
      },
      "source": []
    },
    {
      "cell_type": "markdown",
      "metadata": {
        "id": "1t18T_UQ_Toj"
      },
      "source": [
        "Hedging Simulator\n",
        "\n"
      ]
    },
    {
      "cell_type": "markdown",
      "metadata": {
        "id": "5wPspO-7YvDC"
      },
      "source": [
        "Portfolio Replication of a Call Option via Delta Hedging"
      ]
    },
    {
      "cell_type": "code",
      "execution_count": 12,
      "metadata": {
        "colab": {
          "base_uri": "https://localhost:8080/"
        },
        "id": "9SCNTFJtAlOK",
        "outputId": "23b34623-e944-4ff0-b482-ea3a663a33f7"
      },
      "outputs": [
        {
          "output_type": "stream",
          "name": "stdout",
          "text": [
            "\u001b[1G\u001b[0K⠙\u001b[1G\u001b[0K⠹\u001b[1G\u001b[0K⠸\u001b[1G\u001b[0K⠼\u001b[1G\u001b[0K⠴\u001b[1G\u001b[0K⠦\u001b[1G\u001b[0K⠧\u001b[1G\u001b[0K⠇\u001b[1G\u001b[0K⠏\u001b[1G\u001b[0K⠋\u001b[1G\u001b[0K⠙\u001b[1G\u001b[0K⠹\u001b[1G\u001b[0K⠸\u001b[1G\u001b[0K⠼\u001b[1G\u001b[0K⠴\u001b[1G\u001b[0K⠦\u001b[1G\u001b[0K⠧\u001b[1G\u001b[0K⠇\u001b[1G\u001b[0K\n",
            "changed 22 packages in 2s\n",
            "\u001b[1G\u001b[0K⠇\u001b[1G\u001b[0K\n",
            "\u001b[1G\u001b[0K⠇\u001b[1G\u001b[0K3 packages are looking for funding\n",
            "\u001b[1G\u001b[0K⠇\u001b[1G\u001b[0K  run `npm fund` for details\n",
            "\u001b[1G\u001b[0K⠇\u001b[1G\u001b[0K"
          ]
        }
      ],
      "source": [
        "!pip install -q streamlit # installs streamlit for every run (runs in quiet mode due to -q (specifically for pip), will still show errors)\n",
        "!npm install -g localtunnel # installs localtunnel globally for every run (with complete silencing due to /dev/null, works regardless of program)"
      ]
    },
    {
      "cell_type": "code",
      "execution_count": 13,
      "metadata": {
        "colab": {
          "base_uri": "https://localhost:8080/"
        },
        "id": "AFlBne5ECxMx",
        "outputId": "60568574-8969-464d-bb4f-a63382cda5bd"
      },
      "outputs": [
        {
          "output_type": "stream",
          "name": "stdout",
          "text": [
            "Overwriting delta_hedging_app.py\n"
          ]
        }
      ],
      "source": [
        "# saves app into .py file that Colab can run on Streamlit\n",
        "%%writefile delta_hedging_app.py\n",
        "\n",
        "import numpy as np\n",
        "from scipy.stats import norm\n",
        "import matplotlib.pyplot as plt\n",
        "import yfinance as yf\n",
        "import streamlit as st\n",
        "\n",
        "# st header\n",
        "st.set_page_config(page_title=\"Hedging Simulator\")\n",
        "st.title(\"Portfolio Replication of Options via Delta Hedging\")\n",
        "\n",
        "st.markdown(\"\"\"\n",
        "Replicates the prices of options through **delta hedging** and compares it to those\n",
        "obtained from the **Black-Scholes formula** over historical stock data.\n",
        "\"\"\")\n",
        "\n",
        "# st inputs\n",
        "ticker = st.text_input(\"Stock Ticker (e.g. AAPL)\", value=\"AAPL\")\n",
        "opt_type = st.selectbox(\"Option Type\", [\"call\", \"put\"])\n",
        "pos = st.selectbox(\"Position\", [\"long\", \"short\"])\n",
        "K = st.number_input(\"Strike Price (K)\", value=100.0)\n",
        "T_mat = st.number_input(\"Time to Maturity (in days)\", value=10)\n",
        "r = st.number_input(\"Risk-Free Rate (r)\", value=0.05)\n",
        "sigma = st.number_input(\"Volatility (σ)\", value=0.2)\n",
        "start_date = st.date_input(\"Start date for historical stock prices\")\n",
        "end_date = st.date_input(\"End date for historical stock prices\")\n",
        "\n",
        "# calc helper function for bs price and greeks\n",
        "def calc(opt_type, pos, S, K, T_mat, r, sigma): # T_mat in days\n",
        "    d1 = (np.log(S/K) + (r + (sigma ** 2) / 2) * T_mat) / (sigma * np.sqrt(T_mat))\n",
        "    d2 = d1 - sigma * np.sqrt(T_mat)\n",
        "\n",
        "    def helper(output, *subtype):\n",
        "        if output == \"bs price\": # black-scholes price\n",
        "            if opt_type == \"call\":\n",
        "                return S * norm.cdf(d1) - K * np.exp(-r * T_mat) * norm.cdf(d2)\n",
        "            if opt_type == \"put\":\n",
        "                return K * np.exp(-r * T_mat) * norm.cdf(-d2) - S * norm.cdf(-d1)\n",
        "\n",
        "        if output == \"greek\": # greeks\n",
        "            if subtype[0] == \"delta\": # delta\n",
        "                if opt_type == \"call\":\n",
        "                    return norm.cdf(d1)\n",
        "                if opt_type == \"put\":\n",
        "                    return -norm.cdf(-d1)\n",
        "\n",
        "            if subtype[0] == \"gamma\": # gamma\n",
        "                return norm.pdf(d1) / (S * sigma * np.sqrt(T_mat)) # output is the same regardless of option type\n",
        "    return helper\n",
        "\n",
        "# hedging\n",
        "def hedge(opt_type, pos, K, T_mat, r, sigma, stock_prices): # T_mat in days\n",
        "\n",
        "    trading_days = 365 - 2*52 - 10 # avg 251 trading days per year after subtracting 104 weekends & ~10 holidays\n",
        "    dt = 1/trading_days # differential for ease of calculation\n",
        "    data_days = len(stock_prices) # no of days from historical data\n",
        "\n",
        "    if data_days < T_mat:\n",
        "        print(\"Insufficient data to simulate time to maturity of the option\")\n",
        "        return\n",
        "\n",
        "    # lists to store and compare the replicated and actual prices\n",
        "    replicated_prices = []\n",
        "    bs_opt_prices = []\n",
        "    delta = []\n",
        "\n",
        "    # 0th cycle\n",
        "    S0 = stock_prices[0]\n",
        "    parameters = calc(opt_type, pos, S0, K, T_mat * dt, r, sigma) # T_mat in days\n",
        "    bs_opt_prices.append(parameters('bs price'))\n",
        "    delta.append(parameters('greek', 'delta'))\n",
        "\n",
        "    if (pos == 'long' and opt_type == 'call') or (pos == 'short' and opt_type == 'put'): # long call / short put\n",
        "        cash = -bs_opt_prices[0] + delta[0] * S0\n",
        "        underlying = -delta[0] * S0\n",
        "\n",
        "    if (pos == 'short' and opt_type == 'call') or (pos == 'long' and opt_type == 'put'): # short call / long put\n",
        "        cash = bs_opt_prices[0] - delta[0] * S0\n",
        "        underlying = delta[0] * S0\n",
        "\n",
        "    replicated_prices.append(cash + underlying) # end of 0th cycle: X(0) approx C(0)\n",
        "\n",
        "    t_mat = T_mat # reassignment to new variable so that T_mat can be freed up\n",
        "\n",
        "    for t in range(1, T_mat):\n",
        "        t_mat -= 1 # reducing time to maturity by one day\n",
        "        S_t = stock_prices[t] # assigning current stock price from historical data\n",
        "        underlying = delta[t - 1] * S_t\n",
        "        cash *= np.exp(r * dt) # cash accumulates interest\n",
        "\n",
        "        parameters = calc(opt_type, pos, S_t, K, t_mat * dt, r, sigma) # T_mat in days\n",
        "        bs_opt_prices.append(parameters('bs price'))\n",
        "        delta.append(parameters('greek', 'delta'))\n",
        "\n",
        "        cash -= (delta[t] - delta[t - 1]) * S_t\n",
        "        underlying = delta[t] * S_t\n",
        "\n",
        "        replicated_prices.append(cash + underlying) # end of t'th cycle: X(t) approx C(t)\n",
        "\n",
        "    return replicated_prices, bs_opt_prices\n",
        "\n",
        "if st.button(\"Simulate\"):\n",
        "    if ticker and K and T_mat and r and sigma and start_date < end_date:\n",
        "        try:\n",
        "            data = yf.download(ticker, start=start_date, end=end_date)\n",
        "\n",
        "            if data.empty: # data does not exist for whatever reason\n",
        "                st.error(\"No data available for the specified date range.\")\n",
        "                st.stop()\n",
        "\n",
        "            stock_prices = data['Adj Close'].values # assign data to stock_prices\n",
        "\n",
        "            if len(stock_prices) >= 10:\n",
        "                replicated_prices, bs_opt_prices = hedge(opt_type, pos, K, T_mat, r, sigma, stock_prices)\n",
        "                st.write(\"Replicated Prices:\", replicated_prices)\n",
        "                st.write(\"Black-Scholes Prices:\", bs_opt_prices)\n",
        "            else:\n",
        "                st.error(\"Insufficient data to simulate time to maturity of the option\")\n",
        "        except Exception as e:\n",
        "            st.error(f\"Error: {e}\")\n",
        "    else:\n",
        "        st.error(\"Please fill in all the required fields. The start date also has to be before the end date.\")\n",
        "\n"
      ]
    },
    {
      "cell_type": "code",
      "execution_count": 14,
      "metadata": {
        "colab": {
          "base_uri": "https://localhost:8080/"
        },
        "id": "7ZRsSeHWDnDF",
        "outputId": "c9a5d004-ceb2-4c6f-b347-11fe6ba906c5"
      },
      "outputs": [
        {
          "output_type": "stream",
          "name": "stdout",
          "text": [
            "IP: 34.69.90.197\n",
            "\n",
            "Collecting usage statistics. To deactivate, set browser.gatherUsageStats to false.\n",
            "\u001b[0m\n",
            "\u001b[0m\n",
            "\u001b[34m\u001b[1m  You can now view your Streamlit app in your browser.\u001b[0m\n",
            "\u001b[0m\n",
            "\u001b[34m  Local URL: \u001b[0m\u001b[1mhttp://localhost:8502\u001b[0m\n",
            "\u001b[34m  Network URL: \u001b[0m\u001b[1mhttp://172.28.0.12:8502\u001b[0m\n",
            "\u001b[34m  External URL: \u001b[0m\u001b[1mhttp://34.69.90.197:8502\u001b[0m\n",
            "\u001b[0m\n",
            "\u001b[1G\u001b[0K⠙\u001b[1G\u001b[0K⠹\u001b[1G\u001b[0K⠸\u001b[1G\u001b[0K⠼\u001b[1G\u001b[0K⠴\u001b[1G\u001b[0K⠦\u001b[1G\u001b[0K⠧\u001b[1G\u001b[0K⠇\u001b[1G\u001b[0K⠏\u001b[1G\u001b[0K⠋\u001b[1G\u001b[0Kyour url is: https://deltahedging.loca.lt\n",
            "\u001b[34m  Stopping...\u001b[0m\n",
            "\u001b[34m  Stopping...\u001b[0m\n",
            "^C\n"
          ]
        }
      ],
      "source": [
        "import urllib.request\n",
        "import time\n",
        "import threading\n",
        "\n",
        "print(\"IP:\",urllib.request.urlopen('https://ipv4.icanhazip.com').read().decode('utf8').strip(\"\\n\")) # IP password\n",
        "\n",
        "def run_streamlit(): # function to run streamlit\n",
        "    !streamlit run delta_hedging_app.py &\n",
        "\n",
        "threading.Thread(target=run_streamlit).start() # streamlit is run in a new app so that localtunnel won't get stuck\n",
        "time.sleep(5) # delay execution to give streamlit time to fully launch before being fully exposed\n",
        "!npx localtunnel --port 8501 --subdomain=deltahedging # local tunnelling\n"
      ]
    }
  ],
  "metadata": {
    "colab": {
      "provenance": [],
      "authorship_tag": "ABX9TyPbMMx4cyjpJDapmLxEDwGZ",
      "include_colab_link": true
    },
    "kernelspec": {
      "display_name": "Python 3",
      "name": "python3"
    },
    "language_info": {
      "name": "python"
    }
  },
  "nbformat": 4,
  "nbformat_minor": 0
}